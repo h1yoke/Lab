{
 "cells": [
  {
   "cell_type": "markdown",
   "id": "666cbe6f-ba71-4afc-937f-5107d5754e97",
   "metadata": {},
   "source": [
    "# Предсказание цены недвижимости в России"
   ]
  },
  {
   "cell_type": "code",
   "execution_count": 25,
   "id": "dbb8c351-37b5-4a56-84e1-e5c78ebe98fe",
   "metadata": {},
   "outputs": [],
   "source": [
    "import numpy  as np\n",
    "import pandas as pd\n",
    "\n",
    "df_train = pd.read_csv(\"data/raw/train.csv\")"
   ]
  },
  {
   "cell_type": "markdown",
   "id": "3eb07275-7f3b-4114-a906-43ff361ba984",
   "metadata": {},
   "source": [
    "## Предобработка\n",
    "\n",
    "### Локации\n",
    "\n",
    "У каждой записи имеется множество значений, обозначающих одни и те же данные: город (`city`), ближайший город (`osm_city_nearest_name`), регион (`region`), улица (`street`), геолокация (`lat`, `lng`) и расстояние до ближайшего города (`osm_city_closest_dist`)."
   ]
  },
  {
   "cell_type": "code",
   "execution_count": 26,
   "id": "5b254a1b-2115-422f-a6a8-e0efeea766e1",
   "metadata": {},
   "outputs": [
    {
     "name": "stdout",
     "output_type": "stream",
     "text": [
      "* Статистика локаций:\n",
      "Кол-во улиц     24559\n",
      "Кол-во городов  4431\n",
      "Кол-во регионов 49\n"
     ]
    }
   ],
   "source": [
    "import matplotlib.pyplot as plt\n",
    "\n",
    "regions = df_train[\"region\"].value_counts()\n",
    "print(\"* Статистика локаций:\")\n",
    "print(f\"Кол-во улиц     {len(df_train['street'].value_counts())}\")\n",
    "print(f\"Кол-во городов  {len(df_train['city'].value_counts())}\")\n",
    "print(f\"Кол-во регионов {len(regions)}\")\n",
    "\n",
    "# convert cathegorical sign to a value\n",
    "def convert_sign(df, sign, new_sign):\n",
    "    signs = df[sign].value_counts()\n",
    "    df[new_sign] = df[sign].map(lambda a: signs.index.get_indexer([a])[0])\n",
    "    return df"
   ]
  },
  {
   "cell_type": "markdown",
   "id": "79900392-80e0-44f6-9989-f3ee5eb6e693",
   "metadata": {},
   "source": [
    "Исключим избыточные данные, оставив только наиболее полезные: регион и геолокацию.\n",
    "\n",
    "### Этажи\n",
    "\n",
    "Рассмотрим распределение этажности недвижимости и долю пропущенных данных."
   ]
  },
  {
   "cell_type": "code",
   "execution_count": 27,
   "id": "e0679f54-a73f-4b2a-91e8-0a7c91dcd6bb",
   "metadata": {},
   "outputs": [
    {
     "name": "stdout",
     "output_type": "stream",
     "text": [
      "* Доля недостающих данных: 0.63\n"
     ]
    },
    {
     "data": {
      "image/png": "[encoded data removed]",
      "text/plain": [
       "<Figure size 640x480 with 1 Axes>"
      ]
     },
     "metadata": {},
     "output_type": "display_data"
    }
   ],
   "source": [
    "print(f\"* Доля недостающих данных: {round(df_train.floor.isna().sum() / len(df_train), 2)}\")\n",
    "floors = df_train.floor.value_counts()\n",
    "\n",
    "plt.title(\"Этажи\")\n",
    "plt.yscale(\"log\")\n",
    "plt.bar(floors.index, floors)\n",
    "plt.show()"
   ]
  },
  {
   "cell_type": "markdown",
   "id": "ecbd4297-b091-4787-bc3b-7e8938204823",
   "metadata": {},
   "source": [
    "### Даты + Ставка по ипотеке\n",
    "\n",
    "Преобразуем даты в графу месяцев. Добавим новую графу из внешнего источника: ставку по ипотеке в данный месяц."
   ]
  },
  {
   "cell_type": "code",
   "execution_count": 15,
   "id": "c1268bfb-e601-4225-b273-ae66a30d587b",
   "metadata": {},
   "outputs": [
    {
     "name": "stdout",
     "output_type": "stream",
     "text": [
      "* Средневзвешенная ставка по ипотечным кредитам:\n",
      "2018-01    9.79\n",
      "...\n",
      "2022-10    6.71\n"
     ]
    }
   ],
   "source": [
    "import requests\n",
    "from bs4 import BeautifulSoup\n",
    "from datetime import datetime\n",
    "\n",
    "def load_mortgages() -> pd.Series:\n",
    "    # load mortgage statistics page\n",
    "    page = requests.get(\"https://frankrg.com/data-hub/category/mortgage/chart/29497\")\n",
    "    page.encoding = page.apparent_encoding\n",
    "    parsed_html = BeautifulSoup(page.text)\n",
    "\n",
    "    # load info table\n",
    "    dates, values = [], []\n",
    "    table = parsed_html.body.find(\"tbody\", attrs={\"class\" : \"svelte-fe8u5m\"})\n",
    "    for row in table.findChildren(\"tr\"):\n",
    "        elems = [x.getText().strip().replace(',', '.') for x in row.findChildren(\"td\")]\n",
    "        dates.append(datetime.strptime(elems[0], \"%d.%m.%Y\"))\n",
    "        values.append(float(elems[1]))\n",
    "    mortgage = pd.Series(values, dates)\n",
    "    mortgage.index = pd.DatetimeIndex(mortgage.index).to_period(\"M\")\n",
    "    return mortgage\n",
    "\n",
    "mortgage = load_mortgages()\n",
    "print(f\"* Средневзвешенная ставка по ипотечным кредитам:\\n\" + \n",
    "      f\"{mortgage.index[0]}    {mortgage[0]}\\n\" +\n",
    "      f\"...\\n{mortgage.index[-1]}    {mortgage[-1]}\")"
   ]
  },
  {
   "cell_type": "markdown",
   "id": "ddba437a-d645-458d-84ff-0aa3fa463aa9",
   "metadata": {},
   "source": [
    "### Тип недвижимости\n",
    "\n",
    "Скорее всего, графа `realty_type` представляет собой булевые флаги. Преобразуем данные значения в более удобный вид."
   ]
  },
  {
   "cell_type": "code",
   "execution_count": 28,
   "id": "73c78bbb-3631-4e7c-8965-7dbda07d6277",
   "metadata": {},
   "outputs": [
    {
     "name": "stdout",
     "output_type": "stream",
     "text": [
      "* Типы недвижимости:\n",
      "10     109682\n",
      "110    54927\n",
      "100    41865\n"
     ]
    }
   ],
   "source": [
    "types = df_train[\"realty_type\"].value_counts()\n",
    "print(f\"* Типы недвижимости:\\n\" +\n",
    "      f\"{types.index[0]}     {types.iloc[0]}\\n\" +\n",
    "      f\"{types.index[1]}    {types.iloc[1]}\\n\" +\n",
    "      f\"{types.index[2]}    {types.iloc[2]}\")"
   ]
  },
  {
   "cell_type": "markdown",
   "id": "6846cf8a-40d8-4eb3-8007-161225111c32",
   "metadata": {},
   "source": [
    "### Корреляция\n",
    "\n",
    "#### Подсчет корреляции\n",
    "Применим все указанные изменения, посчитаем [корреляцию Пирсена](https://ru.wikipedia.org/wiki/Корреляция#Линейный_коэффициент_корреляции) оставшихся колонок c целевым признаком и исключим те данные, корреляция с которыми слишком низка."
   ]
  },
  {
   "cell_type": "code",
   "execution_count": 29,
   "id": "c63005be-48ee-4b6d-b0be-ea407354bd5b",
   "metadata": {},
   "outputs": [
    {
     "name": "stdout",
     "output_type": "stream",
     "text": [
      "* Общее кол-во признаков                65\n",
      "* Сонаправленные признаки (alpha=0.3)   40\n",
      "* Сонаправленные признаки (alpha=0.0)   65\n",
      "* Сонаправленные признаки (alpha=0.1)   55\n"
     ]
    }
   ],
   "source": [
    "from sklearn.preprocessing import OneHotEncoder\n",
    "\n",
    "signs = []\n",
    "def format_df(df):\n",
    "    encoder = OneHotEncoder(sparse=False)\n",
    "\n",
    "    # format location\n",
    "    df = convert_sign(df, \"region\", \"region\")\n",
    "    df.drop(columns=[\"city\", \"street\", \"osm_city_nearest_name\"], inplace=True)\n",
    "    \n",
    "    # format realty type\n",
    "    df[\"realty_type\"] = encoder.fit_transform(df[[\"realty_type\"]])\n",
    "    \n",
    "    # add mortgages and format dates\n",
    "    df[\"date\"] = df.date.map(lambda x: datetime.strptime(x, \"%Y-%m-%d\"))\n",
    "    df[\"date\"] = pd.DatetimeIndex(df.date).to_period(\"M\")\n",
    "    df[\"mortgage\"] = df[\"date\"].map(lambda date: mortgage[date])\n",
    "    \n",
    "    df[\"floor\"].fillna(df[\"floor\"].mean(), inplace=True)\n",
    "    df[\"osm_city_nearest_population\"].fillna(df[\"osm_city_nearest_population\"].mean(), inplace=True)\n",
    "\n",
    "    df.drop(columns=[\"id\", \"date\"], inplace=True)\n",
    "    \n",
    "    if not \"per_square_meter_price\" in df.columns:\n",
    "        signs.remove(\"per_square_meter_price\")\n",
    "        df = df[signs]\n",
    "\n",
    "    for i in df.columns:\n",
    "        if df[i].isna().sum() != 0 or df[i].min() < 0:\n",
    "            df.drop(columns=[i], inplace=True)\n",
    "    return df\n",
    "\n",
    "df_train = format_df(df_train)\n",
    "\n",
    "def filter_correlation(alpha):\n",
    "    signs = []\n",
    "    def move_to_front(df, col0):\n",
    "        return df[[col0] + [col for col in df.columns if col != col0]]\n",
    "    cr = move_to_front(df_train, \"per_square_meter_price\").corr(numeric_only=True)\n",
    "\n",
    "    for i in range(len(cr.columns)):\n",
    "        for j in range(0, 1):\n",
    "            d = cr.iloc[i, j]\n",
    "            if abs(d) > alpha:\n",
    "                signs.append(cr.columns[i])\n",
    "    return signs\n",
    "\n",
    "signs1 = filter_correlation(0.1)\n",
    "signs2 = filter_correlation(0.0)\n",
    "signs3 = filter_correlation(0.3)\n",
    "signs = signs1\n",
    "\n",
    "print(f\"* Общее кол-во признаков                {len(df_train.columns)}\")\n",
    "print(f\"* Сонаправленные признаки (alpha=0.3)   {len(signs3)}\")\n",
    "print(f\"* Сонаправленные признаки (alpha=0.0)   {len(signs2)}\")\n",
    "print(f\"* Сонаправленные признаки (alpha=0.1)   {len(signs1)}\")"
   ]
  },
  {
   "cell_type": "markdown",
   "id": "64cd9fd6-3810-4efe-9a37-774aff5de0c5",
   "metadata": {},
   "source": [
    "#### Выбор порога\n",
    "\n",
    "Посмотрим на предсказания модели в зависимости от выбранного порога."
   ]
  },
  {
   "cell_type": "code",
   "execution_count": 49,
   "id": "5bf6835d-0024-4e12-b780-7fa7e412cd2a",
   "metadata": {},
   "outputs": [
    {
     "name": "stdout",
     "output_type": "stream",
     "text": [
      "* Ошибка предсказания на тренировочных данных (alpha=0.3): 1.661432139045002\n",
      "* Ошибка предсказания на тренировочных данных (alpha=0.0): 1.485785715215679\n",
      "* Ошибка предсказания на тренировочных данных (alpha=0.1): 1.5685019744449138\n"
     ]
    },
    {
     "data": {
      "image/png": "[encoded data removed]",
      "text/plain": [
       "<Figure size 640x480 with 1 Axes>"
      ]
     },
     "metadata": {},
     "output_type": "display_data"
    }
   ],
   "source": [
    "from sklearn.model_selection import train_test_split\n",
    "from sklearn.linear_model import LinearRegression\n",
    "from sklearn.metrics import mean_absolute_percentage_error\n",
    "\n",
    "def learn_on(train_frame):\n",
    "    neigh = LinearRegression(fit_intercept=True)\n",
    "    neigh.fit(train_frame.drop(columns=[\"per_square_meter_price\"]), np.log(train_frame[\"per_square_meter_price\"]))\n",
    "    return neigh\n",
    "\n",
    "train, test = train_test_split(df_train, test_size=0.2, random_state=0)\n",
    "model3 = learn_on(train[signs3])\n",
    "model2 = learn_on(train[signs2])\n",
    "model1 = learn_on(train[signs1])\n",
    "prediction3 = model3.predict(test[signs3].drop(columns=[\"per_square_meter_price\"]))\n",
    "prediction2 = model2.predict(test[signs2].drop(columns=[\"per_square_meter_price\"]))\n",
    "prediction1 = model1.predict(test[signs1].drop(columns=[\"per_square_meter_price\"]))\n",
    "error3 = mean_absolute_percentage_error(test[\"per_square_meter_price\"], np.exp(prediction3))\n",
    "error2 = mean_absolute_percentage_error(test[\"per_square_meter_price\"], np.exp(prediction2))\n",
    "error1 = mean_absolute_percentage_error(test[\"per_square_meter_price\"], np.exp(prediction1))\n",
    "print(f\"* Ошибка предсказания на тренировочных данных (alpha=0.3): {error3}\")\n",
    "print(f\"* Ошибка предсказания на тренировочных данных (alpha=0.0): {error2}\")\n",
    "print(f\"* Ошибка предсказания на тренировочных данных (alpha=0.1): {error1}\")\n",
    "\n",
    "plt.title(\"Распределение цен\")\n",
    "plt.xlabel(\"Цены (log)\")\n",
    "plt.hist(np.log(test[\"per_square_meter_price\"]), label=\"Данные\", bins=50)\n",
    "plt.hist(prediction3, label=\"Предсказание (alpha=0.3)\", bins=50, alpha=0.7, color=\"r\")\n",
    "plt.hist(prediction1, label=\"Предсказание (alpha=0.1)\", bins=100, alpha=0.7, color=\"y\")\n",
    "plt.legend(loc=\"upper left\")\n",
    "plt.show()\n",
    "\n",
    "df_train = df_train[signs]\n",
    "model = model1"
   ]
  },
  {
   "cell_type": "markdown",
   "id": "6c84003e-34cc-46d4-a0a9-3ef8f6020725",
   "metadata": {},
   "source": [
    "### Перебор преобразований\n",
    "\n",
    "Возьмем набор преобразований (логарифмирование, возведение в квадрат, взятие корня) и по очереди применим ко всем колонкам с целью улучшить предсказание."
   ]
  },
  {
   "cell_type": "code",
   "execution_count": 9,
   "id": "18fcccd8-1807-474d-86c5-670090fb78a5",
   "metadata": {},
   "outputs": [
    {
     "name": "stdout",
     "output_type": "stream",
     "text": [
      "\n",
      "lat: mapid mapsqrt maplog \n",
      "lng: mapsqr \n",
      "osm_amenity_points_in_0.001: \n",
      "osm_amenity_points_in_0.005: \n",
      "osm_amenity_points_in_0.0075: \n",
      "osm_amenity_points_in_0.01: \n",
      "osm_catering_points_in_0.001: maplog \n",
      "osm_catering_points_in_0.005: \n",
      "osm_catering_points_in_0.0075: mapsqr \n",
      "osm_catering_points_in_0.01: \n",
      "osm_city_closest_dist: mapsqr \n",
      "osm_city_nearest_population: mapsqr \n",
      "osm_crossing_points_in_0.001: mapsqr \n",
      "osm_crossing_points_in_0.005: \n",
      "osm_crossing_points_in_0.0075: \n",
      "osm_crossing_points_in_0.01: mapsqr \n",
      "osm_culture_points_in_0.001: mapsqr \n",
      "osm_culture_points_in_0.005: \n",
      "osm_culture_points_in_0.0075: mapsqr \n",
      "osm_culture_points_in_0.01: \n",
      "osm_finance_points_in_0.001: mapsqr \n",
      "osm_finance_points_in_0.005: \n",
      "osm_finance_points_in_0.0075: \n",
      "osm_finance_points_in_0.01: \n",
      "osm_healthcare_points_in_0.005: \n",
      "osm_healthcare_points_in_0.0075: \n",
      "osm_healthcare_points_in_0.01: \n",
      "osm_historic_points_in_0.005: \n",
      "osm_historic_points_in_0.0075: \n",
      "osm_historic_points_in_0.01: \n",
      "osm_hotels_points_in_0.005: mapsqrt \n",
      "osm_hotels_points_in_0.0075: \n",
      "osm_hotels_points_in_0.01: \n",
      "osm_leisure_points_in_0.005: \n",
      "osm_leisure_points_in_0.0075: \n",
      "osm_leisure_points_in_0.01: \n",
      "osm_offices_points_in_0.001: \n",
      "osm_offices_points_in_0.005: \n",
      "osm_offices_points_in_0.0075: \n",
      "osm_offices_points_in_0.01: \n",
      "osm_shops_points_in_0.001: \n",
      "osm_shops_points_in_0.005: \n",
      "osm_shops_points_in_0.0075: \n",
      "osm_shops_points_in_0.01: \n",
      "osm_subway_closest_dist: \n",
      "osm_train_stop_closest_dist: \n",
      "osm_train_stop_points_in_0.0075: mapsqrt \n",
      "osm_train_stop_points_in_0.01: \n",
      "osm_transport_stop_points_in_0.005: \n",
      "osm_transport_stop_points_in_0.0075: \n",
      "osm_transport_stop_points_in_0.01: \n",
      "reform_count_of_houses_1000: \n",
      "region: \n",
      "realty_type: "
     ]
    }
   ],
   "source": [
    "mapcols = set(filter(lambda c: df_train[c].min() + 1 > 0, df_train.columns))\n",
    "def maplog(df, c):\n",
    "    if c not in mapcols:\n",
    "        return False\n",
    "    assert df[c].min() + 1 > 0\n",
    "    df[c] = np.log(df[c] + 1)\n",
    "    return True\n",
    "def mapsqr(df, c):\n",
    "    assert df[c].min() >= 0\n",
    "    df[c] = df[c] ** 2\n",
    "    return True\n",
    "def mapsqrt(df, c):\n",
    "    assert df[c].min() >= 0\n",
    "    df[c] = np.sqrt(df[c])\n",
    "    return True\n",
    "def mapid(df, c):\n",
    "    return False\n",
    "\n",
    "train, test = train_test_split(df_train, test_size=0.2, random_state=0)\n",
    "bestModel = None\n",
    "bestModelD = None\n",
    "bestMappers = None\n",
    "mappers = {c: mapid for c in train.columns}\n",
    "\n",
    "def apply_mappers(df):\n",
    "    df = df.copy()\n",
    "    for i in df.columns:\n",
    "        assert i in df.columns\n",
    "        mappers.get(i, lambda x, y: False)(df, i)\n",
    "    return df\n",
    "\n",
    "for c in train.columns:\n",
    "    if c == \"per_square_meter_price\":\n",
    "        continue\n",
    "    print(f\"\\n{c}:\", end=\" \")\n",
    "    for mp in [mapid, mapsqr, mapsqrt, maplog]:\n",
    "        oldmp = mappers[c]\n",
    "        mappers[c] = mp\n",
    "\n",
    "        model = learn_on(apply_mappers(train))\n",
    "        split_prediction = model.predict(apply_mappers(test.drop(columns=[\"per_square_meter_price\"])))\n",
    "        error = mean_absolute_percentage_error(test.per_square_meter_price, np.exp(split_prediction))\n",
    "\n",
    "        if bestModelD is None or error < bestModelD:\n",
    "            bestModelD = error\n",
    "            bestModel = model\n",
    "            bestMappers = mappers.copy()\n",
    "            print(f\"{mp.__name__}\", end=\" \")\n",
    "        else:\n",
    "            mappers[c] = oldmp"
   ]
  },
  {
   "cell_type": "markdown",
   "id": "822aad0a-ec84-4d42-97c3-43fd7c5b8bdc",
   "metadata": {},
   "source": [
    "## Предсказание\n",
    "\n",
    "### Оценка модели"
   ]
  },
  {
   "cell_type": "code",
   "execution_count": 10,
   "id": "e361fcaa-17b9-4400-b9ce-e9afa3e0f178",
   "metadata": {},
   "outputs": [
    {
     "name": "stdout",
     "output_type": "stream",
     "text": [
      "* Ошибка модели: 0.9993190934593428\n"
     ]
    }
   ],
   "source": [
    "mappers = bestMappers\n",
    "print(f\"* Ошибка модели: {mean_absolute_percentage_error(test.per_square_meter_price, np.exp(split_prediction))}\")"
   ]
  },
  {
   "cell_type": "markdown",
   "id": "669a0e19-1e01-4b65-a172-6f1d3da1e2a6",
   "metadata": {},
   "source": [
    "### Предсказание модели на тестовых данных"
   ]
  },
  {
   "cell_type": "code",
   "execution_count": 11,
   "id": "d34ee093-3afd-4fee-9982-91ecd06945d1",
   "metadata": {},
   "outputs": [
    {
     "name": "stdout",
     "output_type": "stream",
     "text": [
      "* Предсказание записано в 'data/processed/prediction.csv'\n"
     ]
    }
   ],
   "source": [
    "df_test = pd.read_csv(\"data/raw/test_x.csv\")\n",
    "df_test = format_df(df_test)\n",
    "\n",
    "test_prediction = model.predict(apply_mappers(df_test))\n",
    "df_test[\"per_square_meter_price\"] = test_prediction\n",
    "df_test.to_csv(\"data/processed/prediction.csv\", columns=[\"per_square_meter_price\"], index=True, index_label=\"id\")\n",
    "print(\"* Предсказание записано в 'data/processed/prediction.csv'\")"
   ]
  },
  {
   "cell_type": "code",
   "execution_count": null,
   "id": "4b63bab6-5934-4fd5-a400-72a71afff5fc",
   "metadata": {},
   "outputs": [],
   "source": []
  }
 ],
 "metadata": {
  "kernelspec": {
   "display_name": "Python 3 (ipykernel)",
   "language": "python",
   "name": "python3"
  },
  "language_info": {
   "codemirror_mode": {
    "name": "ipython",
    "version": 3
   },
   "file_extension": ".py",
   "mimetype": "text/x-python",
   "name": "python",
   "nbconvert_exporter": "python",
   "pygments_lexer": "ipython3",
   "version": "3.10.8"
  }
 },
 "nbformat": 4,
 "nbformat_minor": 5
}
